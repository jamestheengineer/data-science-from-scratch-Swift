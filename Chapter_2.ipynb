{
  "nbformat": 4,
  "nbformat_minor": 0,
  "metadata": {
    "colab": {
      "name": "Chapter_2.ipynb",
      "provenance": [],
      "authorship_tag": "ABX9TyNtf9J/EXgoJuT62+oC2zqr",
      "include_colab_link": true
    },
    "kernelspec": {
      "name": "swift",
      "display_name": "Swift"
    }
  },
  "cells": [
    {
      "cell_type": "markdown",
      "metadata": {
        "id": "view-in-github",
        "colab_type": "text"
      },
      "source": [
        "<a href=\"https://colab.research.google.com/github/jamestheengineer/data-science-from-scratch-Swift/blob/master/Chapter_2.ipynb\" target=\"_parent\"><img src=\"https://colab.research.google.com/assets/colab-badge.svg\" alt=\"Open In Colab\"/></a>"
      ]
    },
    {
      "cell_type": "code",
      "metadata": {
        "id": "LGAsvRb3p3fp",
        "colab_type": "code",
        "colab": {}
      },
      "source": [
        "// The double slash marks the start of a comment. Swift itself\n",
        "// ignores the comments, but they're helpful for anyone reading the code.\n",
        "for i in 1...5 {\n",
        "  for j in 1...5 {\n",
        "    print(j)\n",
        "    print (i+j)\n",
        "  }\n",
        "  print(i)\n",
        "}\n",
        "print(\"done looping\")"
      ],
      "execution_count": 0,
      "outputs": []
    },
    {
      "cell_type": "code",
      "metadata": {
        "id": "_rfuO7kkp73_",
        "colab_type": "code",
        "colab": {}
      },
      "source": [
        "// Whitespace is ignored inside parenthesis\n",
        "let long_winded_computation = (1 + 2 + 3 + 4 + 5 + 6 + 7 + 8 + 9 + 10 + 11 + 12 +\n",
        "                                13 + 14 + 15 + 16 + 17 + 18 + 19 + 20)\n",
        "print(long_winded_computation)"
      ],
      "execution_count": 0,
      "outputs": []
    },
    {
      "cell_type": "code",
      "metadata": {
        "id": "nWjHDejRFpya",
        "colab_type": "code",
        "colab": {}
      },
      "source": [
        "// Use it to make things easier to read\n",
        "let array_of_arrays = [[1, 2, 3], [4, 5, 6], [7, 8, 9]]\n",
        "let easier_to_read_array_of_arrays = [[1, 2, 3],\n",
        "                                      [4, 5, 6],\n",
        "                                      [7, 8, 9]]\n",
        "print(array_of_arrays, easier_to_read_array_of_arrays)"
      ],
      "execution_count": 0,
      "outputs": []
    },
    {
      "cell_type": "code",
      "metadata": {
        "id": "8boEiVQlGhO8",
        "colab_type": "code",
        "colab": {}
      },
      "source": [
        "// Don't think there is the equivalent of a new line continuation like the \"\\\" in Python\n",
        "// Don't think whitespace formatting is going to affect Swift like it can in Python, either\n",
        "\n",
        "// Importing libraries\n",
        "// comment so that Colab does not interpret `#if ...` as a comment\n",
        "#if canImport(PythonKit)\n",
        "    import PythonKit\n",
        "#else\n",
        "    import Python\n",
        "#endif\n",
        "print(Python.version)"
      ],
      "execution_count": 0,
      "outputs": []
    },
    {
      "cell_type": "code",
      "metadata": {
        "colab_type": "code",
        "id": "kZRlD4utdPuX",
        "colab": {}
      },
      "source": [
        "let re = Python.import(\"re\")\n",
        "print(re)\n",
        "let my_regex = re.compile(\"[0-9]+\", re.I)\n",
        "print(my_regex)"
      ],
      "execution_count": 0,
      "outputs": []
    },
    {
      "cell_type": "code",
      "metadata": {
        "id": "rT9D_UvQ4wka",
        "colab_type": "code",
        "colab": {}
      },
      "source": [
        "// Let's try a plotting example\n",
        "// This cell is here to display plots inside a Jupyter Notebook.\n",
        "// Do not copy it into another environment.\n",
        "%include \"EnableIPythonDisplay.swift\"\n",
        "IPythonDisplay.shell.enable_matplotlib(\"inline\")"
      ],
      "execution_count": 0,
      "outputs": []
    },
    {
      "cell_type": "code",
      "metadata": {
        "id": "uKSOuh6E5iyi",
        "colab_type": "code",
        "colab": {}
      },
      "source": [
        "let np = Python.import(\"numpy\")\n",
        "let plt = Python.import(\"matplotlib.pyplot\")\n",
        "\n",
        "let time = np.arange(0, 10, 0.01)\n",
        "let amplitude = np.exp(-0.1 * time)\n",
        "let position = amplitude * np.sin(3 * time)\n",
        "\n",
        "plt.figure(figsize: [15, 10])\n",
        "\n",
        "plt.plot(time, position)\n",
        "plt.plot(time, amplitude)\n",
        "plt.plot(time, -amplitude)\n",
        "\n",
        "plt.xlabel(\"Time (s)\")\n",
        "plt.ylabel(\"Position (m)\")\n",
        "plt.title(\"Oscillations\")\n",
        "\n",
        "plt.show()"
      ],
      "execution_count": 0,
      "outputs": []
    },
    {
      "cell_type": "code",
      "metadata": {
        "id": "WK_o8whn6PhD",
        "colab_type": "code",
        "colab": {}
      },
      "source": [
        "// Swift functions\n",
        "func double(x: Double) -> Double {\n",
        "  /// Hmm...does Swift have \"docstrings\"...yup\n",
        "  return x * 2\n",
        "}\n",
        "\n",
        "let result = double(5.1)\n",
        "print(result)"
      ],
      "execution_count": 0,
      "outputs": []
    },
    {
      "cell_type": "code",
      "metadata": {
        "id": "pAmxWOpi9NAh",
        "colab_type": "code",
        "colab": {}
      },
      "source": [
        "func apply_to_one(_ f: (Double) -> Double) -> Double {\n",
        "  /// Calls the function f with 1 as its argument\n",
        "  return f(1)\n",
        "}\n",
        "// Functions can be assigned to variables, as well\n",
        "let my_double = double\n",
        "let x = apply_to_one(my_double)\n",
        "print(x)"
      ],
      "execution_count": 0,
      "outputs": []
    },
    {
      "cell_type": "code",
      "metadata": {
        "id": "gaycerASTjrS",
        "colab_type": "code",
        "colab": {}
      },
      "source": [
        "// Lambdas in Python are Closures in Swift\n",
        "let y = apply_to_one({ (x: Double) -> Double in\n",
        "                        return x + 4})\n",
        "print(y)\n",
        "\n",
        "// Bad form in Python; just define a regular named Not sure about Swift. \n",
        "let another_double = { (x: Double) -> Double in\n",
        "                        return 2 * x }\n",
        "print(another_double(4))"
      ],
      "execution_count": 0,
      "outputs": []
    },
    {
      "cell_type": "code",
      "metadata": {
        "id": "RlZk_we-WB1L",
        "colab_type": "code",
        "colab": {}
      },
      "source": [
        "// Default parameters\n",
        "func my_print(message: String = \"my default message\") {\n",
        "  print(message)\n",
        "}\n",
        "\n",
        "my_print(\"hello\")\n",
        "my_print()"
      ],
      "execution_count": 0,
      "outputs": []
    },
    {
      "cell_type": "code",
      "metadata": {
        "id": "QUbcARBrOZwd",
        "colab_type": "code",
        "colab": {}
      },
      "source": [
        "func full_name(first: String = \"What's-his-name\", last: String = \"Something\") -> String {\n",
        "  return first + \" \" + last\n",
        "}\n",
        "\n",
        "print(full_name(\"Joel\", \"Grus\"))\n",
        "print(full_name(\"Joel\"))\n",
        "print(full_name(last: \"Grus\"))"
      ],
      "execution_count": 0,
      "outputs": []
    },
    {
      "cell_type": "code",
      "metadata": {
        "id": "HO9OrYwHOyx1",
        "colab_type": "code",
        "colab": {}
      },
      "source": [
        "// I think Swift only has double quoted strings\n",
        "//single_quote_string = 'data science' - yup\n",
        "let double_quoted_string = \"data science\"\n",
        "\n",
        "// Backslashes for special characters\n",
        "let tab_string = \"\\t\"\n",
        "tab_string.count"
      ],
      "execution_count": 0,
      "outputs": []
    },
    {
      "cell_type": "code",
      "metadata": {
        "id": "BtpVOpH0DYdA",
        "colab_type": "code",
        "colab": {}
      },
      "source": [
        "// You can use raw strings to capture special characters\n",
        "let not_tab_string = #\"\\t\"#\n",
        "not_tab_string.count\n"
      ],
      "execution_count": 0,
      "outputs": []
    },
    {
      "cell_type": "code",
      "metadata": {
        "id": "OGkbST_2EMlR",
        "colab_type": "code",
        "colab": {}
      },
      "source": [
        "// Multi-line strings in Swift\n",
        "let multi_line_string = \"\"\"\n",
        "  This is the first line.\n",
        "  and this is the second line\n",
        "  and this is the third line\n",
        "  \"\"\"\n",
        "  print(multi_line_string)"
      ],
      "execution_count": 0,
      "outputs": []
    },
    {
      "cell_type": "code",
      "metadata": {
        "id": "2L6Xm3xhEun_",
        "colab_type": "code",
        "colab": {}
      },
      "source": [
        "// String interpolation in Swift is equivalent to the f-string in Python. You can also concatenate\n",
        "let first_name = \"Joel\"\n",
        "let last_name = \"Grus\"\n",
        "let full_name_one_way = first_name + \" \" + last_name\n",
        "let full_name_second_way = \"\\(first_name) \\(last_name)\"\n",
        "print(full_name_one_way, full_name_second_way)"
      ],
      "execution_count": 0,
      "outputs": []
    },
    {
      "cell_type": "code",
      "metadata": {
        "id": "yctegZ-sFhCF",
        "colab_type": "code",
        "colab": {}
      },
      "source": [
        "// There are quite a few ways to handle errors in Swift. Here's the parallel \n",
        "// example to Python in the book, but Swift's print function doesn't throw\n",
        "// so, oh well. You get the point.\n",
        "/*do {\n",
        "  try print(0/0)\n",
        "} catch {\n",
        "  print(\"cannot divide by zero\")\n",
        "}*/"
      ],
      "execution_count": 0,
      "outputs": []
    },
    {
      "cell_type": "code",
      "metadata": {
        "id": "Wm-EuhGv9AFo",
        "colab_type": "code",
        "colab": {}
      },
      "source": [
        "// Swift has arrays, sets, and dictionaries. \n",
        "let integer_list = [1, 2, 3]\n",
        "let heterogeneous_list : [Any] = [\"string\", 0.1, true]\n",
        "let list_length = integer_list.count\n",
        "let list_sum = integer_list.reduce(0, +)\n",
        "print(integer_list, heterogeneous_list, list_length, list_sum)"
      ],
      "execution_count": 0,
      "outputs": []
    },
    {
      "cell_type": "code",
      "metadata": {
        "id": "EgVaqHBh52_0",
        "colab_type": "code",
        "colab": {}
      },
      "source": [
        "var x = [0,1,2,3,4,5,6,7,8,9]\n",
        "let zero = x[0]\n",
        "let one = x[1]\n",
        "let nine = x.suffix(1) // not an int, it's an arrayslice. \n",
        "let eight = x[8] // no good way to go back from the end like Python\n",
        "x[0] = -1\n",
        "print(x[0], zero, one, nine, eight)"
      ],
      "execution_count": 0,
      "outputs": []
    },
    {
      "cell_type": "code",
      "metadata": {
        "id": "msqdAqvM6goB",
        "colab_type": "code",
        "colab": {}
      },
      "source": [
        "let first_three = x[0...2]\n",
        "let three_to_end = x[3...]\n",
        "let one_to_four = x[1...4] // I like inclusive better than python's exclusive behavior\n",
        "let last_three = x.suffix(3)\n",
        "let without_first_and_last = x[1...8] // no tricky way to do this like Python\n",
        "print(first_three, three_to_end, one_to_four, last_three, without_first_and_last)\n"
      ],
      "execution_count": 0,
      "outputs": []
    },
    {
      "cell_type": "code",
      "metadata": {
        "id": "PHqkszEU9HUY",
        "colab_type": "code",
        "colab": {}
      },
      "source": [
        "// No clean way to stride through an array, so just SO the answer\n",
        "\n",
        "// contains is equivalent to in\n",
        "[1,2,3].contains(1)\n",
        "[1,2,3].contains(0)"
      ],
      "execution_count": 0,
      "outputs": []
    },
    {
      "cell_type": "code",
      "metadata": {
        "id": "btkml9hjKGpN",
        "colab_type": "code",
        "colab": {}
      },
      "source": [
        "// Concatenate an array\n",
        "var x = [1, 2, 3]\n",
        "x += [4, 5, 6]\n",
        "print(x)\n",
        "let y = x + [7, 8, 9]\n",
        "print(y)\n",
        "let z = y.count\n",
        "print(z)"
      ],
      "execution_count": 0,
      "outputs": []
    },
    {
      "cell_type": "code",
      "metadata": {
        "id": "D7PSkhZdWdIS",
        "colab_type": "code",
        "colab": {}
      },
      "source": [
        "let (x, y) = (1, 2)\n",
        "print(x)"
      ],
      "execution_count": 0,
      "outputs": []
    },
    {
      "cell_type": "code",
      "metadata": {
        "id": "XZkglGMCXqwh",
        "colab_type": "code",
        "colab": {}
      },
      "source": [
        "let my_tuple = (1,2)\n",
        "print(my_tuple)"
      ],
      "execution_count": 0,
      "outputs": []
    },
    {
      "cell_type": "code",
      "metadata": {
        "id": "Sey8DY7zYvDL",
        "colab_type": "code",
        "colab": {}
      },
      "source": [
        "// Tuples are a convenient way to return multiple values from functions:\n",
        "func sum_and_product(double1: Double, double2: Double) -> (sum: Double, prod: Double) {\n",
        "  let sum = double1 + double2\n",
        "  let prod = double1 * double2\n",
        "  return (sum, prod)\n",
        "}\n",
        "\n",
        "let sp = sum_and_product(double1: 2, double2: 3)\n",
        "print(sp)\n",
        "let (t, o) = sum_and_product(double1: 4, double2: 5)\n",
        "print(t, o)"
      ],
      "execution_count": 0,
      "outputs": []
    },
    {
      "cell_type": "code",
      "metadata": {
        "id": "DKgghXkoUy_j",
        "colab_type": "code",
        "colab": {}
      },
      "source": [
        "// Swift has the basic type of a dictionary, too\n",
        "var empty_dict = [String: Int]()\n",
        "empty_dict = [:] // You can reset a dict this way\n",
        "var grades = [\"Joel\": 80, \"Tim\": 95]\n",
        "\n",
        "if let joels_grade = grades[\"Joel\"] {\n",
        "  print(joels_grade) // Returns an optional in Swift. Use if to get the actual value. Interesting...\n",
        "}\n",
        "\n",
        "let joels_unwrapped_grade = grades[\"Joel\"]! // If you really know you can also unconditionally unwrap\n",
        "print(joels_unwrapped_grade)"
      ],
      "execution_count": 0,
      "outputs": []
    },
    {
      "cell_type": "code",
      "metadata": {
        "id": "ZsvfEvFnoNcA",
        "colab_type": "code",
        "colab": {}
      },
      "source": [
        "let default_value = grades[\"James\", default: 8] // Default value\n",
        "let keyExists = grades[\"New Student\"] != nil\n",
        "print(keyExists)\n"
      ],
      "execution_count": 0,
      "outputs": []
    },
    {
      "cell_type": "code",
      "metadata": {
        "id": "xbkL79PQJdYr",
        "colab_type": "code",
        "colab": {}
      },
      "source": [
        "grades[\"New Student\"] = 90\n",
        "grades[\"Tim\"] = 40\n",
        "let length = grades.count\n",
        "print(grades, length)"
      ],
      "execution_count": 0,
      "outputs": []
    },
    {
      "cell_type": "code",
      "metadata": {
        "id": "Fz7_ZA76KXer",
        "colab_type": "code",
        "colab": {}
      },
      "source": [
        "// As long as you are explicit about the value type, you can have heterogeneous dicts\n",
        "let tweet : [String: Any] = [\n",
        "  \"user\": \"joelgrus\",\n",
        "  \"text\": \"Data Science is Awesome\",\n",
        "  \"retweet_count\": 100,\n",
        "  \"hastags\": [\"#data\",\"#science\",\"#datascience\",\"#awesome\",\"#yolo\"]\n",
        "]\n",
        "print(tweet)"
      ],
      "execution_count": 0,
      "outputs": []
    },
    {
      "cell_type": "code",
      "metadata": {
        "id": "GoYHo9Zt6UUo",
        "colab_type": "code",
        "colab": {}
      },
      "source": [
        "let keys = Array(tweet.keys)\n",
        "print(keys)\n",
        "let values = Array(tweet.values)\n",
        "print(values)\n",
        "// Not sure about iterator objects in Swift, but you definitely usually just iterate using a tuple like:\n",
        "for (key, value) in tweet {\n",
        "  print(\"(\\(key), \\(value))\")\n",
        "}"
      ],
      "execution_count": 0,
      "outputs": []
    },
    {
      "cell_type": "code",
      "metadata": {
        "id": "ac2QI-3UJ1w-",
        "colab_type": "code",
        "colab": {}
      },
      "source": [
        "// Skipping over convenience classes in Python like defaultdict and Counter\n",
        "\n",
        "// Sets\n",
        "let primes_below_10: Set = [2, 3, 5, 7]\n",
        "print(primes_below_10)\n",
        "\n",
        "var s = Set<Int>()\n",
        "s.insert(1)\n",
        "s.insert(2)\n",
        "s.insert(3)\n",
        "let x = s.count\n",
        "let y = s.contains(2)\n",
        "let z = s.contains(4)\n",
        "print(s, x, y, z)\n"
      ],
      "execution_count": 0,
      "outputs": []
    },
    {
      "cell_type": "code",
      "metadata": {
        "id": "WZXeXD6uI9a6",
        "colab_type": "code",
        "colab": {}
      },
      "source": [
        "// Control flow\n",
        "// Wow, didn't realize about Python scope\n",
        "var message = \"\"\n",
        "if 1 > 2 {\n",
        "  message = \"if only 1 were greater than two...\"\n",
        "} else if 1 > 3 {\n",
        "  message = \"no way this else if is hit\"\n",
        "} else {\n",
        "  message = \"when all else fails use else (if you want to)\"\n",
        "}\n",
        "print(message)"
      ],
      "execution_count": 0,
      "outputs": []
    },
    {
      "cell_type": "code",
      "metadata": {
        "id": "6pX-WBiZPe5c",
        "colab_type": "code",
        "colab": {}
      },
      "source": [
        "// Ternary\n",
        "let x = 3\n",
        "let parity = (x % 2 == 0) ? \"even\" : \"odd\"\n",
        "print(parity)"
      ],
      "execution_count": 0,
      "outputs": []
    },
    {
      "cell_type": "code",
      "metadata": {
        "id": "s8Uy2V5uSgFc",
        "colab_type": "code",
        "colab": {}
      },
      "source": [
        "// While statements\n",
        "var x = 0\n",
        "while x < 10 {\n",
        "  print(\"\\(x) is less than 10\")\n",
        "  x += 1\n",
        "}"
      ],
      "execution_count": 0,
      "outputs": []
    },
    {
      "cell_type": "code",
      "metadata": {
        "id": "7Gmbp0mWFl0M",
        "colab_type": "code",
        "colab": {}
      },
      "source": [
        "// For...in\n",
        "for x in 0..<10 {\n",
        "  print(\"\\(x) is less than 10\")\n",
        "}"
      ],
      "execution_count": 0,
      "outputs": []
    },
    {
      "cell_type": "code",
      "metadata": {
        "id": "55X05AS7Gj9W",
        "colab_type": "code",
        "colab": {}
      },
      "source": [
        "for x in 0..<10 {\n",
        "  if x == 3 {\n",
        "    continue\n",
        "  }\n",
        "  if x == 5 {\n",
        "    break\n",
        "  }\n",
        "  print(x)\n",
        "}"
      ],
      "execution_count": 0,
      "outputs": []
    },
    {
      "cell_type": "code",
      "metadata": {
        "id": "GjMbUsp7G4bE",
        "colab_type": "code",
        "colab": {}
      },
      "source": [
        "// Booleans\n",
        "let one_is_less_than_two = 1 < 2\n",
        "let true_equals_false = true==false\n",
        "print(one_is_less_than_two, true_equals_false)"
      ],
      "execution_count": 0,
      "outputs": []
    },
    {
      "cell_type": "code",
      "metadata": {
        "id": "626gGgl6UvET",
        "colab_type": "code",
        "colab": {}
      },
      "source": [
        "// Swift uses nil, but you usually get it in conjunction with using optional\n",
        "var x : String?\n",
        "assert(x == nil)"
      ],
      "execution_count": 0,
      "outputs": []
    },
    {
      "cell_type": "code",
      "metadata": {
        "id": "HRlCNd4CVrpy",
        "colab_type": "code",
        "colab": {}
      },
      "source": [
        "// Swift is much more strict about falsey. Only false is false."
      ],
      "execution_count": 0,
      "outputs": []
    },
    {
      "cell_type": "code",
      "metadata": {
        "id": "PhNPa1qcY2zc",
        "colab_type": "code",
        "colab": {}
      },
      "source": [
        "// Sorting\n",
        "var x = [4, 1, 2, 3]\n",
        "let y = x.sorted()\n",
        "print(x, y)"
      ],
      "execution_count": 0,
      "outputs": []
    },
    {
      "cell_type": "code",
      "metadata": {
        "id": "slb3WJ_CduwT",
        "colab_type": "code",
        "colab": {}
      },
      "source": [
        "// Functions in Swift\n",
        "func smallest_item(array: [Int]) -> Int {\n",
        "  var currentMin = array[0]\n",
        "  for value in array[1..<array.count] {\n",
        "    if value < currentMin {\n",
        "      currentMin = value\n",
        "    }\n",
        "  }\n",
        "  return currentMin\n",
        "}\n",
        "assert(smallest_item(array: [10, 20, 5, 40]) == 5)"
      ],
      "execution_count": 0,
      "outputs": []
    },
    {
      "cell_type": "code",
      "metadata": {
        "id": "AggZSj7G3rCP",
        "colab_type": "code",
        "colab": {}
      },
      "source": [
        "let numbers = [10, 20, 5, 40]\n",
        "if let min = numbers.min() {\n",
        "  print(min)  \n",
        "}\n",
        "print(min)"
      ],
      "execution_count": 0,
      "outputs": []
    },
    {
      "cell_type": "code",
      "metadata": {
        "id": "LSGL-VZq4hJ9",
        "colab_type": "code",
        "colab": {}
      },
      "source": [
        "// Swift has classes and structures.\n",
        "class CountingClicker {\n",
        "  var count = 0\n",
        "  func click(numTimes: Int = 1) {\n",
        "    count += numTimes\n",
        "  }\n",
        "  func read() -> Int {\n",
        "    return count\n",
        "  }\n",
        "  func reset() {\n",
        "    count = 0\n",
        "  }\n",
        "}"
      ],
      "execution_count": 0,
      "outputs": []
    },
    {
      "cell_type": "code",
      "metadata": {
        "id": "zkqoI2jCp-4F",
        "colab_type": "code",
        "colab": {}
      },
      "source": [
        "let counter = CountingClicker()\n",
        "assert(counter.count == 0, \"clicker should start with count 0\")\n",
        "counter.click()\n",
        "print(counter.count)\n",
        "counter.click()\n",
        "print(counter.count)\n",
        "assert(counter.count == 2, \"after two clicks, clicker should have count 2\")\n",
        "counter.reset()\n",
        "print(counter.count)\n",
        "assert(counter.count == 0, \"after reset, clicker should be back to 0\")\n",
        "counter.click(numTimes: 5)\n",
        "print(counter.read(), counter.count)"
      ],
      "execution_count": 0,
      "outputs": []
    },
    {
      "cell_type": "code",
      "metadata": {
        "id": "UKyut9Mqq30j",
        "colab_type": "code",
        "colab": {}
      },
      "source": [
        "// A subclass inherits all the behavior and properties of its super class\n",
        "class NoResetClicker: CountingClicker {\n",
        "  override func reset() { // Do Nothing\n",
        "  }\n",
        "}\n",
        "\n",
        "let noResetCounter = NoResetClicker()\n",
        "assert(noResetCounter.count == 0)\n",
        "noResetCounter.click()\n",
        "assert(noResetCounter.count == 1)\n",
        "noResetCounter.reset()\n",
        "assert(noResetCounter.count == 1, \"reset shouldn't do anything\")\n",
        "print(noResetCounter.count)"
      ],
      "execution_count": 0,
      "outputs": []
    },
    {
      "cell_type": "code",
      "metadata": {
        "id": "M_jRMsTEXm3O",
        "colab_type": "code",
        "colab": {}
      },
      "source": [
        "// Range operators in Swift are common like Python. Note that Python still has the exclusive value at the end. Still weird.\n",
        "for i in 1...10 {\n",
        "  print(\"i: \\(i)\")\n",
        "}"
      ],
      "execution_count": 0,
      "outputs": []
    },
    {
      "cell_type": "code",
      "metadata": {
        "id": "ArjXF5VUCTfn",
        "colab_type": "code",
        "colab": {}
      },
      "source": [
        "// You can use the half-open range operator to be equivalent to Python\n",
        "for i in 1..<10 {\n",
        "  print(\"i: \\(i)\")\n",
        "}"
      ],
      "execution_count": 0,
      "outputs": []
    },
    {
      "cell_type": "code",
      "metadata": {
        "id": "Pd4VfHsjCwq4",
        "colab_type": "code",
        "colab": {}
      },
      "source": [
        "// Swift has native random functionality. No need for imports like python\n",
        "// But I think you have to make your own class to seed\n",
        "print(Int.random(in: 0...10))\n",
        "print(Int.random(in: 3...5))"
      ],
      "execution_count": 0,
      "outputs": []
    },
    {
      "cell_type": "code",
      "metadata": {
        "id": "oE_nCbfabf5Y",
        "colab_type": "code",
        "colab": {}
      },
      "source": [
        "var up_to_ten = Array(0...9)\n",
        "print(up_to_ten)\n",
        "up_to_ten.shuffle()\n",
        "print(up_to_ten)"
      ],
      "execution_count": 0,
      "outputs": []
    },
    {
      "cell_type": "code",
      "metadata": {
        "id": "nMB30fedcS4o",
        "colab_type": "code",
        "colab": {}
      },
      "source": [
        "let my_best_friend = [\"Alice\",\"Bob\",\"Charlie\"].randomElement()!\n",
        "print(my_best_friend)"
      ],
      "execution_count": 0,
      "outputs": []
    },
    {
      "cell_type": "code",
      "metadata": {
        "id": "o7tSwqlmcvuQ",
        "colab_type": "code",
        "colab": {}
      },
      "source": [
        ""
      ],
      "execution_count": 0,
      "outputs": []
    }
  ]
}