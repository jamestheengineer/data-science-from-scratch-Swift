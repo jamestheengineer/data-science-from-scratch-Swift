{
  "nbformat": 4,
  "nbformat_minor": 0,
  "metadata": {
    "colab": {
      "name": "Chapter_2.ipynb",
      "provenance": [],
      "authorship_tag": "ABX9TyN7pPtT2Ke5jsyJ/CBfn397",
      "include_colab_link": true
    },
    "kernelspec": {
      "name": "swift",
      "display_name": "Swift"
    }
  },
  "cells": [
    {
      "cell_type": "markdown",
      "metadata": {
        "id": "view-in-github",
        "colab_type": "text"
      },
      "source": [
        "<a href=\"https://colab.research.google.com/github/jamestheengineer/data-science-from-scratch-Swift/blob/master/Chapter_2.ipynb\" target=\"_parent\"><img src=\"https://colab.research.google.com/assets/colab-badge.svg\" alt=\"Open In Colab\"/></a>"
      ]
    },
    {
      "cell_type": "code",
      "metadata": {
        "id": "LGAsvRb3p3fp",
        "colab_type": "code",
        "colab": {}
      },
      "source": [
        "// The double slash marks the start of a comment. Swift itself\n",
        "// ignores the comments, but they're helpful for anyone reading the code.\n",
        "for i in 1...5 {\n",
        "  for j in 1...5 {\n",
        "    print(j)\n",
        "    print (i+j)\n",
        "  }\n",
        "  print(i)\n",
        "}\n",
        "print(\"done looping\")"
      ],
      "execution_count": 0,
      "outputs": []
    },
    {
      "cell_type": "code",
      "metadata": {
        "id": "_rfuO7kkp73_",
        "colab_type": "code",
        "colab": {}
      },
      "source": [
        "// Whitespace is ignored inside parenthesis\n",
        "let long_winded_computation = (1 + 2 + 3 + 4 + 5 + 6 + 7 + 8 + 9 + 10 + 11 + 12 +\n",
        "                                13 + 14 + 15 + 16 + 17 + 18 + 19 + 20)\n",
        "print(long_winded_computation)"
      ],
      "execution_count": 0,
      "outputs": []
    },
    {
      "cell_type": "code",
      "metadata": {
        "id": "nWjHDejRFpya",
        "colab_type": "code",
        "colab": {}
      },
      "source": [
        "// Use it to make things easier to read\n",
        "let array_of_arrays = [[1, 2, 3], [4, 5, 6], [7, 8, 9]]\n",
        "let easier_to_read_array_of_arrays = [[1, 2, 3],\n",
        "                                      [4, 5, 6],\n",
        "                                      [7, 8, 9]]\n",
        "print(array_of_arrays, easier_to_read_array_of_arrays)"
      ],
      "execution_count": 0,
      "outputs": []
    },
    {
      "cell_type": "code",
      "metadata": {
        "id": "8boEiVQlGhO8",
        "colab_type": "code",
        "colab": {}
      },
      "source": [
        "// Don't think there is the equivalent of a new line continuation like the \"\\\" in Python\n",
        "// Don't think whitespace formatting is going to affect Swift like it can in Python, either\n",
        "\n",
        "// Importing libraries"
      ],
      "execution_count": 0,
      "outputs": []
    }
  ]
}