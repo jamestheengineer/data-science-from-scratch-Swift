{
  "nbformat": 4,
  "nbformat_minor": 0,
  "metadata": {
    "colab": {
      "name": "Chapter_2.ipynb",
      "provenance": [],
      "authorship_tag": "ABX9TyPLh3GwyLplvp8e2cA+PbzX",
      "include_colab_link": true
    },
    "kernelspec": {
      "name": "swift",
      "display_name": "Swift"
    }
  },
  "cells": [
    {
      "cell_type": "markdown",
      "metadata": {
        "id": "view-in-github",
        "colab_type": "text"
      },
      "source": [
        "<a href=\"https://colab.research.google.com/github/jamestheengineer/data-science-from-scratch-Swift/blob/master/Chapter_2.ipynb\" target=\"_parent\"><img src=\"https://colab.research.google.com/assets/colab-badge.svg\" alt=\"Open In Colab\"/></a>"
      ]
    },
    {
      "cell_type": "code",
      "metadata": {
        "id": "LGAsvRb3p3fp",
        "colab_type": "code",
        "colab": {}
      },
      "source": [
        "// The double slash marks the start of a comment. Swift itself\n",
        "// ignores the comments, but they're helpful for anyone reading the code.\n",
        "for i in 1...5 {\n",
        "  for j in 1...5 {\n",
        "    print(j)\n",
        "    print (i+j)\n",
        "  }\n",
        "  print(i)\n",
        "}\n",
        "print(\"done looping\")"
      ],
      "execution_count": 0,
      "outputs": []
    },
    {
      "cell_type": "code",
      "metadata": {
        "id": "_rfuO7kkp73_",
        "colab_type": "code",
        "colab": {}
      },
      "source": [
        "// Whitespace is ignored inside parenthesis\n",
        "let long_winded_computation = (1 + 2 + 3 + 4 + 5 + 6 + 7 + 8 + 9 + 10 + 11 + 12 +\n",
        "                                13 + 14 + 15 + 16 + 17 + 18 + 19 + 20)\n",
        "print(long_winded_computation)"
      ],
      "execution_count": 0,
      "outputs": []
    },
    {
      "cell_type": "code",
      "metadata": {
        "id": "nWjHDejRFpya",
        "colab_type": "code",
        "colab": {}
      },
      "source": [
        "// Use it to make things easier to read\n",
        "let array_of_arrays = [[1, 2, 3], [4, 5, 6], [7, 8, 9]]\n",
        "let easier_to_read_array_of_arrays = [[1, 2, 3],\n",
        "                                      [4, 5, 6],\n",
        "                                      [7, 8, 9]]\n",
        "print(array_of_arrays, easier_to_read_array_of_arrays)"
      ],
      "execution_count": 0,
      "outputs": []
    },
    {
      "cell_type": "code",
      "metadata": {
        "id": "8boEiVQlGhO8",
        "colab_type": "code",
        "colab": {}
      },
      "source": [
        "// Don't think there is the equivalent of a new line continuation like the \"\\\" in Python\n",
        "// Don't think whitespace formatting is going to affect Swift like it can in Python, either\n",
        "\n",
        "// Importing libraries\n",
        "// comment so that Colab does not interpret `#if ...` as a comment\n",
        "#if canImport(PythonKit)\n",
        "    import PythonKit\n",
        "#else\n",
        "    import Python\n",
        "#endif\n",
        "print(Python.version)"
      ],
      "execution_count": 0,
      "outputs": []
    },
    {
      "cell_type": "code",
      "metadata": {
        "colab_type": "code",
        "id": "kZRlD4utdPuX",
        "colab": {}
      },
      "source": [
        "let re = Python.import(\"re\")\n",
        "print(re)\n",
        "let my_regex = re.compile(\"[0-9]+\", re.I)\n",
        "print(my_regex)"
      ],
      "execution_count": 0,
      "outputs": []
    },
    {
      "cell_type": "code",
      "metadata": {
        "id": "rT9D_UvQ4wka",
        "colab_type": "code",
        "colab": {}
      },
      "source": [
        "// Let's try a plotting example\n",
        "// This cell is here to display plots inside a Jupyter Notebook.\n",
        "// Do not copy it into another environment.\n",
        "%include \"EnableIPythonDisplay.swift\"\n",
        "IPythonDisplay.shell.enable_matplotlib(\"inline\")"
      ],
      "execution_count": 0,
      "outputs": []
    },
    {
      "cell_type": "code",
      "metadata": {
        "id": "uKSOuh6E5iyi",
        "colab_type": "code",
        "colab": {}
      },
      "source": [
        "let np = Python.import(\"numpy\")\n",
        "let plt = Python.import(\"matplotlib.pyplot\")\n",
        "\n",
        "let time = np.arange(0, 10, 0.01)\n",
        "let amplitude = np.exp(-0.1 * time)\n",
        "let position = amplitude * np.sin(3 * time)\n",
        "\n",
        "plt.figure(figsize: [15, 10])\n",
        "\n",
        "plt.plot(time, position)\n",
        "plt.plot(time, amplitude)\n",
        "plt.plot(time, -amplitude)\n",
        "\n",
        "plt.xlabel(\"Time (s)\")\n",
        "plt.ylabel(\"Position (m)\")\n",
        "plt.title(\"Oscillations\")\n",
        "\n",
        "plt.show()"
      ],
      "execution_count": 0,
      "outputs": []
    },
    {
      "cell_type": "code",
      "metadata": {
        "id": "WK_o8whn6PhD",
        "colab_type": "code",
        "colab": {}
      },
      "source": [
        "// Swift functions\n",
        "func double(x: Double) -> Double {\n",
        "  /// Hmm...does Swift have \"docstrings\"...yup\n",
        "  return x * 2\n",
        "}\n",
        "\n",
        "let result = double(5.1)\n",
        "print(result)"
      ],
      "execution_count": 0,
      "outputs": []
    },
    {
      "cell_type": "code",
      "metadata": {
        "id": "pAmxWOpi9NAh",
        "colab_type": "code",
        "colab": {}
      },
      "source": [
        "func apply_to_one(_ f: (Double) -> Double) -> Double {\n",
        "  /// Calls the function f with 1 as its argument\n",
        "  return f(1)\n",
        "}\n",
        "// Functions can be assigned to variables, as well\n",
        "let my_double = double\n",
        "let x = apply_to_one(my_double)\n",
        "print(x)"
      ],
      "execution_count": 0,
      "outputs": []
    },
    {
      "cell_type": "code",
      "metadata": {
        "id": "gaycerASTjrS",
        "colab_type": "code",
        "colab": {}
      },
      "source": [
        "// Lambdas in Python are Closures in Swift\n",
        "let y = apply_to_one({ (x: Double) -> Double in\n",
        "                        return x + 4})\n",
        "print(y)\n",
        "\n",
        "// Bad form in Python; just define a regular named Not sure about Swift. \n",
        "let another_double = { (x: Double) -> Double in\n",
        "                        return 2 * x }\n",
        "print(another_double(4))"
      ],
      "execution_count": 0,
      "outputs": []
    },
    {
      "cell_type": "code",
      "metadata": {
        "id": "RlZk_we-WB1L",
        "colab_type": "code",
        "colab": {}
      },
      "source": [
        "// Default parameters\n",
        "func my_print(message: String = \"my default message\") {\n",
        "  print(message)\n",
        "}\n",
        "\n",
        "my_print(\"hello\")\n",
        "my_print()"
      ],
      "execution_count": 0,
      "outputs": []
    },
    {
      "cell_type": "code",
      "metadata": {
        "id": "QUbcARBrOZwd",
        "colab_type": "code",
        "colab": {}
      },
      "source": [
        "func full_name(first: String = \"What's-his-name\", last: String = \"Something\") -> String {\n",
        "  return first + \" \" + last\n",
        "}\n",
        "\n",
        "print(full_name(\"Joel\", \"Grus\"))\n",
        "print(full_name(\"Joel\"))\n",
        "print(full_name(last: \"Grus\"))"
      ],
      "execution_count": 0,
      "outputs": []
    },
    {
      "cell_type": "code",
      "metadata": {
        "id": "HO9OrYwHOyx1",
        "colab_type": "code",
        "colab": {}
      },
      "source": [
        "// I think Swift only has double quoted strings\n",
        "//single_quote_string = 'data science' - yup\n",
        "let double_quoted_string = \"data science\"\n",
        "\n",
        "// Backslashes for special characters\n",
        "let tab_string = \"\\t\"\n",
        "tab_string.count"
      ],
      "execution_count": 0,
      "outputs": []
    },
    {
      "cell_type": "code",
      "metadata": {
        "id": "BtpVOpH0DYdA",
        "colab_type": "code",
        "colab": {}
      },
      "source": [
        "// You can use raw strings to capture special characters\n",
        "let not_tab_string = #\"\\t\"#\n",
        "not_tab_string.count\n"
      ],
      "execution_count": 0,
      "outputs": []
    },
    {
      "cell_type": "code",
      "metadata": {
        "id": "OGkbST_2EMlR",
        "colab_type": "code",
        "colab": {}
      },
      "source": [
        "// Multi-line strings in Swift\n",
        "let multi_line_string = \"\"\"\n",
        "  This is the first line.\n",
        "  and this is the second line\n",
        "  and this is the third line\n",
        "  \"\"\"\n",
        "  print(multi_line_string)"
      ],
      "execution_count": 0,
      "outputs": []
    },
    {
      "cell_type": "code",
      "metadata": {
        "id": "2L6Xm3xhEun_",
        "colab_type": "code",
        "colab": {}
      },
      "source": [
        "// String interpolation in Swift is equivalent to the f-string in Python. You can also concatenate\n",
        "let first_name = \"Joel\"\n",
        "let last_name = \"Grus\"\n",
        "let full_name_one_way = first_name + \" \" + last_name\n",
        "let full_name_second_way = \"\\(first_name) \\(last_name)\"\n",
        "print(full_name_one_way, full_name_second_way)"
      ],
      "execution_count": 0,
      "outputs": []
    },
    {
      "cell_type": "code",
      "metadata": {
        "id": "yctegZ-sFhCF",
        "colab_type": "code",
        "colab": {}
      },
      "source": [
        ""
      ],
      "execution_count": 0,
      "outputs": []
    }
  ]
}